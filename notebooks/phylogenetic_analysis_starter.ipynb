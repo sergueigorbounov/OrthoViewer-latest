{
 "cells": [
  {
   "cell_type": "markdown",
   "metadata": {},
   "source": [
    "# Phylogenetic Analysis with BioSemanticViz\n",
    "\n",
    "This notebook provides interactive phylogenetic analysis capabilities."
   ]
  },
  {
   "cell_type": "code",
   "execution_count": null,
   "metadata": {},
   "source": [
    "# Import phylogenetic analysis libraries\n",
    "import ete3\n",
    "from ete3 import Tree, TreeStyle, NodeStyle\n",
    "import pandas as pd\n",
    "import numpy as np\n",
    "import matplotlib.pyplot as plt\n",
    "import requests\n",
    "import json\n",
    "\n",
    "# Configure for inline plots\n",
    "%matplotlib inline\n",
    "\n",
    "print(f\"🧬 ETE3 version: {ete3.__version__}\")\n",
    "print(\"📊 Phylogenetic analysis environment ready!\")"
   ]
  },
  {
   "cell_type": "code",
   "execution_count": null,
   "metadata": {},
   "source": [
    "# Example: Load and visualize a simple tree\n",
    "newick = \"(A:0.1,B:0.2,(C:0.3,D:0.4):0.05);\"\n",
    "tree = Tree(newick)\n",
    "\n",
    "print(f\"Tree has {len(tree)} nodes\")\n",
    "print(f\"Leaf nodes: {[leaf.name for leaf in tree.get_leaves()]}\")\n",
    "\n",
    "# Basic tree visualization\n",
    "tree.show()"
   ]
  }
 ],
 "metadata": {
  "kernelspec": {
   "display_name": "Python 3",
   "language": "python",
   "name": "python3"
  }
 },
 "nbformat": 4,
 "nbformat_minor": 4
}
